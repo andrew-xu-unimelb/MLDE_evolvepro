{
 "cells": [
  {
   "cell_type": "code",
   "execution_count": null,
   "metadata": {},
   "outputs": [],
   "source": [
    "import numpy as np\n",
    "import pandas as pd\n",
    "import seaborn as sns\n",
    "import os\n",
    "from evolvepro.src.data import load_dms_data\n",
    "from evolvepro.src.evolve import directed_evolution_simulation\n",
    "from sklearn.ensemble import RandomForestRegressor, RandomForestClassifier\n",
    "from sklearn.metrics import mean_squared_error\n",
    "import MLDE_scripts.dimension_reduction as dimension_reduction\n",
    "import simulation_pipeline\n",
    "import math\n",
    "import random\n",
    "import umap"
   ]
  },
  {
   "cell_type": "code",
   "execution_count": null,
   "metadata": {},
   "outputs": [],
   "source": [
    "# load dataset\n",
    "dataset_name = \"jones\"\n",
    "model_name = \"esm1b_t33_650M_UR50S\"\n",
    "embeddings_path = \"output/dms/embeddings\"\n",
    "labels_path = \"output/dms/labels\"\n",
    "embeddings_file_type = \"csv\"\n",
    "embeddings_type_pt = \"average\"\n",
    "embeddings, labels = load_dms_data(dataset_name, model_name, embeddings_path, labels_path, embeddings_file_type, embeddings_type_pt)"
   ]
  },
  {
   "cell_type": "code",
   "execution_count": null,
   "metadata": {},
   "outputs": [],
   "source": [
    "umap_model = umap.UMAP(n_components=5)\n",
    "X_umap = umap_model.fit_transform(embeddings)\n",
    "umap_df = pd.DataFrame(X_umap, index=embeddings.index)"
   ]
  },
  {
   "cell_type": "code",
   "execution_count": null,
   "metadata": {},
   "outputs": [],
   "source": [
    "model = RandomForestRegressor(n_estimators=200, criterion='friedman_mse', max_depth=None, min_samples_split=2,\n",
    "                                    min_samples_leaf=1, min_weight_fraction_leaf=0.0, max_features=round(math.log2(1280)),\n",
    "                                    max_leaf_nodes=None, min_impurity_decrease=0.0, bootstrap=True, oob_score=False,\n",
    "                                    n_jobs=None, random_state=1, verbose=0, warm_start=False, ccp_alpha=0.0,\n",
    "                                    max_samples=None)\n",
    "metrics_df = []\n",
    "for i in range(0, 9):\n",
    "    predicted_activities, metrics, final_cycl_predictions = simulation_pipeline.model_simulation(\n",
    "        #embeddings = umap_df,\n",
    "        embeddings = embeddings,\n",
    "        labels = labels,\n",
    "        output_dir = \"output/RF_simulations\",\n",
    "        predict_all = True,\n",
    "        activity = \"activity_binary\",\n",
    "        cycles = 10,\n",
    "        num_per_cycle = 16,\n",
    "        #model = model,\n",
    "        #random_seed = 1234,\n",
    "        #selection_method= \"limit_AA\"\n",
    "    )\n",
    "    metrics_df.append(metrics)\n",
    "metrics_df = pd.concat(metrics_df, ignore_index=True)\n",
    "metrics_df.to_csv('./output/RF_average_performance.csv')"
   ]
  },
  {
   "cell_type": "code",
   "execution_count": null,
   "metadata": {},
   "outputs": [],
   "source": [
    "rf_performance_df = pd.read_csv('./output/RF_average_performance.csv')\n",
    "rf_avg = rf_performance_df.loc[rf_performance_df['iteration'] == 9, 'activity_binary_percentage']\n",
    "rf_avg.mean()"
   ]
  },
  {
   "cell_type": "code",
   "execution_count": null,
   "metadata": {},
   "outputs": [],
   "source": [
    "model = RandomForestRegressor(n_estimators=200, criterion='friedman_mse', max_depth=None, min_samples_split=2,\n",
    "                                    min_samples_leaf=1, min_weight_fraction_leaf=0.0, max_features=round(math.log2(1280)),\n",
    "                                    max_leaf_nodes=None, min_impurity_decrease=0.0, bootstrap=True, oob_score=False,\n",
    "                                    n_jobs=None, random_state=1, verbose=0, warm_start=False, ccp_alpha=0.0,\n",
    "                                    max_samples=None)\n",
    "predicted_activities, metrics, final_cycl_predictions = simulation_pipeline.model_simulation(\n",
    "    embeddings = embeddings,\n",
    "    labels = labels,\n",
    "    output_dir = \"output/RF_simulations\",\n",
    "    predict_all = True,\n",
    "    activity = \"activity\",\n",
    "    cycles = 10,\n",
    "    num_per_cycle = 10,\n",
    "    model = model,\n",
    "    random_seed = 1234,\n",
    ")\n",
    "metrics"
   ]
  },
  {
   "cell_type": "code",
   "execution_count": null,
   "metadata": {},
   "outputs": [],
   "source": [
    "metrics_list = []\n",
    "for i in range(0, 30):\n",
    "    model = RandomForestRegressor(n_estimators=200, criterion='friedman_mse', max_depth=None, min_samples_split=2,\n",
    "                                    min_samples_leaf=1, min_weight_fraction_leaf=0.0, max_features=round(math.log2(1280)),\n",
    "                                    max_leaf_nodes=None, min_impurity_decrease=0.0, bootstrap=True, oob_score=False,\n",
    "                                    n_jobs=None, random_state=1, verbose=0, warm_start=False, ccp_alpha=0.0,\n",
    "                                    max_samples=None)\n",
    "    predicted_activities, metrics, final_cycle_predictions = simulation_pipeline.model_simulation(\n",
    "        embeddings = embeddings,\n",
    "        labels = labels,\n",
    "        output_dir = \"output/RF_simulations\",\n",
    "        predict_all = True,\n",
    "        activity = \"activity\",\n",
    "        cycles = 10,\n",
    "        num_per_cycle = 10,\n",
    "        model = model,\n",
    "        random_seed = i,\n",
    "        limit_AA_selection = False\n",
    "    )\n",
    "    metrics_list.append(metrics)\n"
   ]
  },
  {
   "cell_type": "code",
   "execution_count": null,
   "metadata": {},
   "outputs": [],
   "source": [
    "for i in range(0, 30):\n",
    "    sns.lineplot(metrics_list[i]['activity_binary_percentage'])"
   ]
  },
  {
   "cell_type": "code",
   "execution_count": null,
   "metadata": {},
   "outputs": [],
   "source": [
    "metrics_list = []\n",
    "for i in range(0, 30):\n",
    "    model = RandomForestRegressor(n_estimators=200, criterion='friedman_mse', max_depth=None, min_samples_split=2,\n",
    "                                    min_samples_leaf=1, min_weight_fraction_leaf=0.0, max_features=round(math.log2(1280)),\n",
    "                                    max_leaf_nodes=None, min_impurity_decrease=0.0, bootstrap=True, oob_score=False,\n",
    "                                    n_jobs=None, random_state=1, verbose=0, warm_start=False, ccp_alpha=0.0,\n",
    "                                    max_samples=None)\n",
    "    predicted_activities, metrics, final_cycle_predictions = simulation_pipeline.model_simulation(\n",
    "        embeddings = embeddings,\n",
    "        labels = labels,\n",
    "        output_dir = \"output/RF_simulations\",\n",
    "        predict_all = True,\n",
    "        activity = \"activity\",\n",
    "        cycles = 10,\n",
    "        num_per_cycle = 10,\n",
    "        model = model,\n",
    "        random_seed = i,\n",
    "        limit_AA_selection = True\n",
    "    )\n",
    "    metrics_list.append(metrics)"
   ]
  },
  {
   "cell_type": "code",
   "execution_count": null,
   "metadata": {},
   "outputs": [],
   "source": [
    "for i in range(0, 30):\n",
    "    sns.lineplot(metrics_list[i]['activity_binary_percentage'])"
   ]
  },
  {
   "cell_type": "code",
   "execution_count": null,
   "metadata": {},
   "outputs": [],
   "source": [
    "pca = dimension_reduction.Create_PCA(\n",
    "    embedding_path = \"output/dms/embeddings/jones_esm1b_t33_650M_UR50S.csv\",\n",
    "    labels_path = \"output/RF_simulations/final_cycle_predictions.csv\",\n",
    "    label_name=\"predicted_activity\",\n",
    "    n_dims=5\n",
    ")\n",
    "\n",
    "pca.visualise_labels()"
   ]
  }
 ],
 "metadata": {
  "kernelspec": {
   "display_name": ".env",
   "language": "python",
   "name": "python3"
  },
  "language_info": {
   "codemirror_mode": {
    "name": "ipython",
    "version": 3
   },
   "file_extension": ".py",
   "mimetype": "text/x-python",
   "name": "python",
   "nbconvert_exporter": "python",
   "pygments_lexer": "ipython3",
   "version": "3.9.10"
  }
 },
 "nbformat": 4,
 "nbformat_minor": 2
}
