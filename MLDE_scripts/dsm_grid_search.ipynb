{
 "cells": [
  {
   "cell_type": "code",
   "execution_count": null,
   "metadata": {},
   "outputs": [],
   "source": [
    "import sys\n",
    "import scripts.dms.dms_main as dms_main\n",
    "import warnings"
   ]
  },
  {
   "cell_type": "code",
   "execution_count": null,
   "metadata": {},
   "outputs": [],
   "source": [
    "# simulating system command-line input for arguments\n",
    "sys.argv = ['scripts/dms/dms_main.py', \n",
    "            '--dataset_name', 'jones',\n",
    "            '--experiment_name', 'grid_search', # purely for output file naming\n",
    "            '--model_name', 'esm1b_t33_650M_UR50S',\n",
    "            '--embeddings_path', 'output/dms/embeddings',\n",
    "            '--labels_path', 'output/dms/labels',\n",
    "            '--num_simulations', '3',\n",
    "            '--num_iterations', '10',\n",
    "            '--measured_var', 'activity_scaled',\n",
    "            '--learning_strategies', 'topn',\n",
    "            '--num_mutants_per_round', '16',\n",
    "            '--num_final_round_mutants', '16',\n",
    "            '--first_round_strategies', 'random', 'diverse_medoids',\n",
    "            '--embedding_types', 'embeddings',\n",
    "            '--pca_components', '10',\n",
    "            '--regression_types', 'ridge', 'lasso', 'elasticnet', 'linear', 'neuralnet', 'randomforest', 'gradientboosting', 'knn', 'gp',\n",
    "            '--embeddings_file_type', 'csv',\n",
    "            '--output_dir', 'output/dms/grid_search_results',\n",
    "            '--embeddings_type_pt', 'average',\n",
    "            ]\n",
    "dms_main.main()"
   ]
  },
  {
   "cell_type": "code",
   "execution_count": null,
   "metadata": {},
   "outputs": [],
   "source": [
    "# grid search over number of mutants per round\n",
    "warnings.filterwarnings(\"ignore\")\n",
    "sys.argv = ['scripts/dms/dms_main.py', \n",
    "            '--dataset_name', 'jones',\n",
    "            '--experiment_name', 'scaling', # purely for output file naming\n",
    "            '--model_name', 'esm1b_t33_650M_UR50S',\n",
    "            '--embeddings_path', 'output/dms/embeddings',\n",
    "            '--labels_path', 'output/dms/labels',\n",
    "            '--num_simulations', '3',\n",
    "            '--num_iterations', '10',\n",
    "            '--measured_var', 'activity_scaled',\n",
    "            '--learning_strategies', 'topn',\n",
    "            '--num_mutants_per_round', '8', '12', '16', '24', '32', '36', '40', '48', '56', '60', '64', '72', '80', '84', '88', '96',\n",
    "            '--num_final_round_mutants', '10',\n",
    "            '--first_round_strategies', 'random',\n",
    "            '--embedding_types', 'embeddings',\n",
    "            '--pca_components', '10',\n",
    "            '--regression_types', 'neuralnet', 'randomforest', 'gradientboosting',\n",
    "            '--embeddings_file_type', 'csv',\n",
    "            '--output_dir', 'output/dms/grid_search_results',\n",
    "            '--embeddings_type_pt', 'average',\n",
    "            ]\n",
    "dms_main.main()"
   ]
  },
  {
   "cell_type": "code",
   "execution_count": null,
   "metadata": {},
   "outputs": [],
   "source": [
    "sys.argv = ['scripts/dms/dms_main.py', \n",
    "            '--dataset_name', 'jones',\n",
    "            '--experiment_name', 'RF_test', # purely for output file naming\n",
    "            '--model_name', 'esm1b_t33_650M_UR50S',\n",
    "            '--embeddings_path', 'output/dms/embeddings',\n",
    "            '--labels_path', 'output/dms/labels',\n",
    "            '--num_simulations', '3',\n",
    "            '--num_iterations', '10',\n",
    "            '--measured_var', 'activity',\n",
    "            '--learning_strategies', 'topn',\n",
    "            '--num_mutants_per_round', '16',\n",
    "            '--num_final_round_mutants', '16',\n",
    "            '--first_round_strategies', 'random',\n",
    "            '--embedding_types', 'embeddings',\n",
    "            '--pca_components', '10',\n",
    "            '--regression_types', 'randomforest',\n",
    "            '--embeddings_file_type', 'csv',\n",
    "            '--output_dir', 'output/dms/grid_search_results',\n",
    "            '--embeddings_type_pt', 'average',\n",
    "            ]\n",
    "dms_main.main()"
   ]
  }
 ],
 "metadata": {
  "kernelspec": {
   "display_name": ".env",
   "language": "python",
   "name": "python3"
  },
  "language_info": {
   "codemirror_mode": {
    "name": "ipython",
    "version": 3
   },
   "file_extension": ".py",
   "mimetype": "text/x-python",
   "name": "python",
   "nbconvert_exporter": "python",
   "pygments_lexer": "ipython3",
   "version": "3.9.10"
  }
 },
 "nbformat": 4,
 "nbformat_minor": 2
}
