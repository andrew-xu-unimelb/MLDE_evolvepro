{
 "cells": [
  {
   "cell_type": "code",
   "execution_count": null,
   "metadata": {},
   "outputs": [],
   "source": [
    "import os\n",
    "import pandas as pd\n",
    "import numpy as np\n",
    "from Bio import SeqIO\n",
    "from Bio.Seq import Seq\n",
    "from Bio.SeqRecord import SeqRecord\n",
    "from evolvepro.src.process import process_dataset, plot_mutations_per_position, plot_histogram_of_readout"
   ]
  },
  {
   "cell_type": "code",
   "execution_count": null,
   "metadata": {},
   "outputs": [],
   "source": [
    "project_root = ''\n",
    "file_path = os.path.join(project_root, 'data' , 'dms', 'activity', 'Source.xlsx')\n",
    "dataset_name = 'jones'\n",
    "wt_fasta_path = os.path.join(project_root, 'data' , 'dms', 'wt_fasta', 'jones_WT.fasta')\n",
    "activity_column = 'DMS_0.625'\n",
    "cutoff_value = 2.8\n",
    "output_dir = os.path.join(project_root, 'output' , 'dms')\n",
    "sheet_name = 'ADRB2'\n",
    "cutoff_rule = 'greater_than'\n",
    "cutoff_percentiles = [90, 95]\n",
    "AA_shift = None\n",
    "drop_columns = True"
   ]
  },
  {
   "cell_type": "code",
   "execution_count": null,
   "metadata": {},
   "outputs": [],
   "source": [
    "# Process the dataset\n",
    "brenan_df, brenan_frac = process_dataset(\n",
    "    file_path=file_path,\n",
    "    dataset_name=dataset_name,\n",
    "    wt_fasta_path=wt_fasta_path,\n",
    "    activity_column=activity_column,\n",
    "    cutoff_value=cutoff_value,\n",
    "    output_dir=output_dir,\n",
    "    sheet_name=sheet_name,\n",
    "    cutoff_rule=cutoff_rule,\n",
    "    cutoff_percentiles=cutoff_percentiles,\n",
    "    AA_shift=AA_shift,\n",
    "    drop_columns=drop_columns\n",
    ")"
   ]
  },
  {
   "cell_type": "code",
   "execution_count": null,
   "metadata": {},
   "outputs": [],
   "source": [
    "plot_mutations_per_position(brenan_df)\n",
    "plot_histogram_of_readout(brenan_df, activity_column, cutoff_value)"
   ]
  },
  {
   "cell_type": "code",
   "execution_count": null,
   "metadata": {},
   "outputs": [],
   "source": [
    "# generating embeddings for all mutants\n",
    "import sys\n",
    "import evolvepro.plm.esm.extract as esm_extract\n",
    "\n",
    "# simulating system command-line input for arguments\n",
    "sys.argv = ['evolvepro/plm/esm/extract.py', \n",
    "            'esm1b_t33_650M_UR50S', # model name\n",
    "            'output/dms/jones.fasta', # input sequence fasta file\n",
    "            'output/dms/embeddings', # output location\n",
    "            '--toks_per_batch', '512',\n",
    "            '--include', 'mean',\n",
    "            '--concatenate_dir', 'output'\n",
    "            ]\n",
    "esm_extract.main()"
   ]
  }
 ],
 "metadata": {
  "kernelspec": {
   "display_name": ".env",
   "language": "python",
   "name": "python3"
  },
  "language_info": {
   "codemirror_mode": {
    "name": "ipython",
    "version": 3
   },
   "file_extension": ".py",
   "mimetype": "text/x-python",
   "name": "python",
   "nbconvert_exporter": "python",
   "pygments_lexer": "ipython3",
   "version": "3.9.10"
  }
 },
 "nbformat": 4,
 "nbformat_minor": 2
}
