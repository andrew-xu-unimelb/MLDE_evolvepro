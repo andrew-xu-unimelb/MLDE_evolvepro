{
 "cells": [
  {
   "cell_type": "code",
   "execution_count": 1,
   "metadata": {},
   "outputs": [],
   "source": [
    "from evolvepro.src.process import generate_wt, generate_single_aa_mutants, suggest_initial_mutants\n",
    "import torch"
   ]
  },
  {
   "cell_type": "code",
   "execution_count": 2,
   "metadata": {},
   "outputs": [
    {
     "name": "stdout",
     "output_type": "stream",
     "text": [
      "Number of mutants: 1369\n",
      "\n",
      "Suggested 12 mutants for testing:\n",
      "1. R23K\n",
      "2. T58E\n",
      "3. I36D\n",
      "4. V31C\n",
      "5. I7A\n",
      "6. K3F\n",
      "7. Q10P\n",
      "8. G38E\n",
      "9. E4M\n",
      "10. D61W\n",
      "11. E4Y\n",
      "12. R23N\n"
     ]
    }
   ],
   "source": [
    "# generating wildtype sequence, along with list of all possible single point aa mutations\n",
    "#generate_wt('MAKEDNIEMQGTVLETLPNTMFRVELENGHVVTAHISGKMRKNYIRILTGDKVTVELTPYDLSKGRIVFRSR', output_file='content/output/test_WT.fasta')\n",
    "# shorter aa sequence for faster testing\n",
    "generate_wt('MAKEDNIEMQGTVLETLPNTMFRVELENGHVVTAHISGKMRKNYIRILTGDKVTVELTPYDLSKGRIVFRSR', output_file='output/test_WT.fasta')\n",
    "generate_single_aa_mutants('output/test_WT.fasta', output_file='output/test_aa_mutation.fasta')\n",
    "\n",
    "# randomly select 10 single point aa mutants\n",
    "suggest_initial_mutants('output/test_aa_mutation.fasta', num_mutants=12, random_seed=42)"
   ]
  },
  {
   "cell_type": "code",
   "execution_count": 3,
   "metadata": {},
   "outputs": [
    {
     "ename": "ModuleNotFoundError",
     "evalue": "No module named 'flash_attn'",
     "output_type": "error",
     "traceback": [
      "\u001b[0;31m---------------------------------------------------------------------------\u001b[0m",
      "\u001b[0;31mModuleNotFoundError\u001b[0m                       Traceback (most recent call last)",
      "Cell \u001b[0;32mIn[3], line 2\u001b[0m\n\u001b[1;32m      1\u001b[0m \u001b[38;5;28;01mimport\u001b[39;00m\u001b[38;5;250m \u001b[39m\u001b[38;5;21;01msys\u001b[39;00m\n\u001b[0;32m----> 2\u001b[0m \u001b[38;5;28;01mimport\u001b[39;00m\u001b[38;5;250m \u001b[39m\u001b[38;5;21;01mevolvepro\u001b[39;00m\u001b[38;5;21;01m.\u001b[39;00m\u001b[38;5;21;01mplm\u001b[39;00m\u001b[38;5;21;01m.\u001b[39;00m\u001b[38;5;21;01mesm\u001b[39;00m\u001b[38;5;21;01m.\u001b[39;00m\u001b[38;5;21;01mextract\u001b[39;00m\u001b[38;5;250m \u001b[39m\u001b[38;5;28;01mas\u001b[39;00m\u001b[38;5;250m \u001b[39m\u001b[38;5;21;01mesm_extract\u001b[39;00m\n\u001b[1;32m      5\u001b[0m \u001b[38;5;66;03m# simulating system command-line input for arguments\u001b[39;00m\n\u001b[1;32m      6\u001b[0m sys\u001b[38;5;241m.\u001b[39margv \u001b[38;5;241m=\u001b[39m [\u001b[38;5;124m'\u001b[39m\u001b[38;5;124mevolvepro/plm/esm/extract.py\u001b[39m\u001b[38;5;124m'\u001b[39m, \n\u001b[1;32m      7\u001b[0m             \u001b[38;5;124m'\u001b[39m\u001b[38;5;124mesm1b_t33_650M_UR50S\u001b[39m\u001b[38;5;124m'\u001b[39m, \u001b[38;5;66;03m# model name\u001b[39;00m\n\u001b[1;32m      8\u001b[0m             \u001b[38;5;124m'\u001b[39m\u001b[38;5;124moutput/test_aa_mutation.fasta\u001b[39m\u001b[38;5;124m'\u001b[39m, \u001b[38;5;66;03m# input sequence fasta file\u001b[39;00m\n\u001b[0;32m   (...)\u001b[0m\n\u001b[1;32m     12\u001b[0m             \u001b[38;5;124m'\u001b[39m\u001b[38;5;124m--concatenate_dir\u001b[39m\u001b[38;5;124m'\u001b[39m, \u001b[38;5;124m'\u001b[39m\u001b[38;5;124moutput\u001b[39m\u001b[38;5;124m'\u001b[39m\n\u001b[1;32m     13\u001b[0m             ]\n",
      "File \u001b[0;32m~/MLDE/EvolvePro/evolvepro/plm/esm/extract.py:15\u001b[0m\n\u001b[1;32m     12\u001b[0m \u001b[38;5;28;01mimport\u001b[39;00m\u001b[38;5;250m \u001b[39m\u001b[38;5;21;01mtorch\u001b[39;00m\n\u001b[1;32m     14\u001b[0m \u001b[38;5;28;01mfrom\u001b[39;00m\u001b[38;5;250m \u001b[39m\u001b[38;5;21;01mesm\u001b[39;00m\u001b[38;5;250m \u001b[39m\u001b[38;5;28;01mimport\u001b[39;00m Alphabet, FastaBatchedDataset, ProteinBertModel, pretrained, MSATransformer\n\u001b[0;32m---> 15\u001b[0m \u001b[38;5;28;01mfrom\u001b[39;00m\u001b[38;5;250m \u001b[39m\u001b[38;5;21;01mflash_attn\u001b[39;00m\u001b[38;5;21;01m.\u001b[39;00m\u001b[38;5;21;01mmodules\u001b[39;00m\u001b[38;5;21;01m.\u001b[39;00m\u001b[38;5;21;01mmha\u001b[39;00m\u001b[38;5;250m \u001b[39m\u001b[38;5;28;01mimport\u001b[39;00m FlashMHA \u001b[38;5;66;03m# flash attention module\u001b[39;00m\n\u001b[1;32m     18\u001b[0m \u001b[38;5;28;01mdef\u001b[39;00m\u001b[38;5;250m \u001b[39m\u001b[38;5;21mcreate_parser\u001b[39m():\n\u001b[1;32m     19\u001b[0m     parser \u001b[38;5;241m=\u001b[39m argparse\u001b[38;5;241m.\u001b[39mArgumentParser(\n\u001b[1;32m     20\u001b[0m         description\u001b[38;5;241m=\u001b[39m\u001b[38;5;124m\"\u001b[39m\u001b[38;5;124mExtract per-token representations and model outputs for sequences in a FASTA file\u001b[39m\u001b[38;5;124m\"\u001b[39m  \u001b[38;5;66;03m# noqa\u001b[39;00m\n\u001b[1;32m     21\u001b[0m     )\n",
      "\u001b[0;31mModuleNotFoundError\u001b[0m: No module named 'flash_attn'"
     ]
    }
   ],
   "source": [
    "import sys\n",
    "import evolvepro.plm.esm.extract as esm_extract\n",
    "\n",
    "\n",
    "# simulating system command-line input for arguments\n",
    "sys.argv = ['evolvepro/plm/esm/extract.py', \n",
    "            'esm1b_t33_650M_UR50S', # model name\n",
    "            'output/test_aa_mutation.fasta', # input sequence fasta file\n",
    "            'output/test_esm_representation', # output location\n",
    "            '--toks_per_batch', '512',\n",
    "            '--include', 'mean',\n",
    "            '--concatenate_dir', 'output'\n",
    "            ]\n",
    "esm_extract.main()"
   ]
  },
  {
   "cell_type": "code",
   "execution_count": 5,
   "metadata": {},
   "outputs": [],
   "source": [
    "from evolvepro.src.evolve import evolve_experimental\n",
    "\n",
    "protein_name = 'test'\n",
    "embeddings_base_path = 'output'\n",
    "embeddings_file_name = 'test_aa_mutation_esm1b_t33_650M_UR50S.csv'\n",
    "round_base_path = 'colab/rounds_data'\n",
    "wt_fasta_path = 'output/test_WT.fasta'\n",
    "number_of_variants = 12\n",
    "output_dir = 'output/'\n",
    "rename_WT = True\n",
    "\n"
   ]
  },
  {
   "cell_type": "code",
   "execution_count": 7,
   "metadata": {},
   "outputs": [
    {
     "name": "stdout",
     "output_type": "stream",
     "text": [
      "Processing test - Round1\n",
      "Embeddings loaded: (1369, 1280)\n",
      "Loaded experimental data for kelsic_Round1.xlsx: (12, 3)\n",
      "iteration shape: (12, 2)\n",
      "Labels shape: (1369, 5)\n",
      "Embeddings and labels are aligned\n",
      "(1357,)\n",
      "\n",
      "Tested variants in this round: 12\n",
      "59      D61W\n",
      "169     R23N\n",
      "268      E4Y\n",
      "321      I7A\n",
      "324     R23K\n",
      "340      K3F\n",
      "467     I36D\n",
      "564     G38E\n",
      "655     Q10P\n",
      "965     V31C\n",
      "996      E4M\n",
      "1356    T58E\n",
      "Name: variant, dtype: object\n",
      "\n",
      "Top 12 variants predicted by the model:\n",
      "     variant    y_pred  y_actual  y_actual_scaled  y_actual_binary  \\\n",
      "1106     E4F  0.957737       NaN              NaN              NaN   \n",
      "483      E4N  0.956633       NaN              NaN              NaN   \n",
      "822      E4H  0.955237       NaN              NaN              NaN   \n",
      "460      E4V  0.952660       NaN              NaN              NaN   \n",
      "739      E4L  0.951933       NaN              NaN              NaN   \n",
      "353     S71C  0.949777       NaN              NaN              NaN   \n",
      "909      E4I  0.949723       NaN              NaN              NaN   \n",
      "1036     E8Y  0.949385       NaN              NaN              NaN   \n",
      "554     E27C  0.947490       NaN              NaN              NaN   \n",
      "335      E8F  0.947202       NaN              NaN              NaN   \n",
      "551      E4W  0.946793       NaN              NaN              NaN   \n",
      "371      E4R  0.943782       NaN              NaN              NaN   \n",
      "\n",
      "     dist_metric  std_predictions  \n",
      "1106        None              0.0  \n",
      "483         None              0.0  \n",
      "822         None              0.0  \n",
      "460         None              0.0  \n",
      "739         None              0.0  \n",
      "353         None              0.0  \n",
      "909         None              0.0  \n",
      "1036        None              0.0  \n",
      "554         None              0.0  \n",
      "335         None              0.0  \n",
      "551         None              0.0  \n",
      "371         None              0.0  \n",
      "\n",
      "Data saved to output/test/Round1\n"
     ]
    },
    {
     "name": "stderr",
     "output_type": "stream",
     "text": [
      "/Users/xu.a/MLDE/EvolvePro/evolvepro/src/model.py:199: FutureWarning: The behavior of DataFrame concatenation with empty or all-NA entries is deprecated. In a future version, this will no longer exclude empty or all-NA columns when determining the result dtypes. To retain the old behavior, exclude the relevant entries before the concat operation.\n",
      "  df_all = pd.concat([df_train, df_test])\n"
     ]
    }
   ],
   "source": [
    "round_name = 'Round1'\n",
    "round_file_names = ['kelsic_Round1.xlsx']\n",
    "\n",
    "this_round_variants, df_test, df_sorted_all = evolve_experimental(\n",
    "    protein_name,\n",
    "    round_name,\n",
    "    embeddings_base_path,\n",
    "    embeddings_file_name,\n",
    "    round_base_path,\n",
    "    round_file_names,\n",
    "    wt_fasta_path,\n",
    "    rename_WT,\n",
    "    number_of_variants,\n",
    "    output_dir\n",
    ")"
   ]
  }
 ],
 "metadata": {
  "kernelspec": {
   "display_name": ".env",
   "language": "python",
   "name": "python3"
  },
  "language_info": {
   "codemirror_mode": {
    "name": "ipython",
    "version": 3
   },
   "file_extension": ".py",
   "mimetype": "text/x-python",
   "name": "python",
   "nbconvert_exporter": "python",
   "pygments_lexer": "ipython3",
   "version": "3.9.6"
  }
 },
 "nbformat": 4,
 "nbformat_minor": 2
}
